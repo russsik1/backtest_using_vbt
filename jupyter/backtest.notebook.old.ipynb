{
 "cells": [
  {
   "cell_type": "code",
   "execution_count": 1,
   "id": "70244ee2",
   "metadata": {},
   "outputs": [],
   "source": [
    "%load_ext autoreload\n",
    "%autoreload 2"
   ]
  },
  {
   "cell_type": "code",
   "execution_count": 2,
   "id": "9d1fc6a5",
   "metadata": {
    "scrolled": true
   },
   "outputs": [],
   "source": [
    "import warnings\n",
    "warnings.filterwarnings('ignore')\n",
    "import vectorbtpro as vbt\n",
    "import os, sys, io, time, math, pickle, copy, json, asyncio, random, zipfile, functools, itertools\n",
    "import datetime as dt\n",
    "import talib.abstract as ta\n",
    "import pandas as pd\n",
    "import numpy as np"
   ]
  },
  {
   "cell_type": "code",
   "execution_count": 3,
   "id": "e7306f5f-b249-46e9-8b06-e33d20c2d8ab",
   "metadata": {},
   "outputs": [],
   "source": [
    "from dataloader import Dataloader\n",
    "from backtest import Backtest, CommonParams, Direction\n",
    "\n",
    "dataloader = Dataloader()\n",
    "backtest = Backtest()"
   ]
  },
  {
   "cell_type": "markdown",
   "id": "882f23da-50b6-44ba-9589-09b9d0ef6dc0",
   "metadata": {},
   "source": [
    "### Указываем пару и период с которыми будем работать"
   ]
  },
  {
   "cell_type": "code",
   "execution_count": 4,
   "id": "fd1f1897-e40c-4ddd-9890-377ea30efaec",
   "metadata": {},
   "outputs": [],
   "source": [
    "symbol = 'BTCUSDT'\n",
    "start_date = '01.2023' # строго в формате MM.YYYY\n",
    "end_date = '03.2023' # строго в формате MM.YYYY"
   ]
  },
  {
   "cell_type": "markdown",
   "id": "31122730-cac2-4e77-9cf0-05b38fc8a019",
   "metadata": {},
   "source": [
    "### Скачивание исторических данных binance.futures\n",
    "сохраняет csv файлы в klines/{symbol}. \n",
    "⚠️Пропустить если интересуемый период загружен"
   ]
  },
  {
   "cell_type": "code",
   "execution_count": 5,
   "id": "08cd3341-1301-4c86-a6fa-e886189ebb02",
   "metadata": {},
   "outputs": [],
   "source": [
    "# dataloader.download(symbol, start_date, end_date)"
   ]
  },
  {
   "cell_type": "markdown",
   "id": "1e63f4e2-0339-40b9-8dda-c97ef08d8a24",
   "metadata": {},
   "source": [
    "### Чтение данных\n",
    "Это минутные свечи в дальнейшем будут использоваться:\n",
    "1. Расчет точек входа на основе индикаторов\n",
    "2. Имитация торгов на исторических данных"
   ]
  },
  {
   "cell_type": "code",
   "execution_count": 6,
   "id": "a1fcdfef-7f84-474b-af58-f03e6211e1a0",
   "metadata": {},
   "outputs": [],
   "source": [
    "df = dataloader.read(symbol, start_date, end_date)"
   ]
  },
  {
   "cell_type": "markdown",
   "id": "bbaf3349-f769-4e83-a173-e8fd75340071",
   "metadata": {},
   "source": [
    "### Сигнал"
   ]
  },
  {
   "cell_type": "code",
   "execution_count": 7,
   "id": "ad74c59c-8f98-4b3b-8729-28d44f55f1c0",
   "metadata": {},
   "outputs": [],
   "source": [
    "# Подготовка данных для получения точек входа на основе сигналов\n",
    "timeframe = '1h'\n",
    "\n",
    "signal_df = dataloader.convert_tf(df, timeframe)\n",
    "ohlcv = {c: signal_df[c].values for c in signal_df.columns}"
   ]
  },
  {
   "cell_type": "code",
   "execution_count": 8,
   "id": "e431f22c-aaed-4f49-80b7-f90f9074b955",
   "metadata": {},
   "outputs": [
    {
     "name": "stdout",
     "output_type": "stream",
     "text": [
      "signal count:  296\n"
     ]
    }
   ],
   "source": [
    "# Сигнал\n",
    "# для примера определим точки дивергенции\n",
    "rsi = ta.RSI(ohlcv, timeperiod=20)\n",
    "prev_rsi = np.append(np.nan, rsi[:-1])\n",
    "# close = ohlcv.get('close')\n",
    "# prev_close = np.append(np.nan, close[:-1])\n",
    "high = ohlcv.get('high')\n",
    "prev_high = np.append(np.nan, high[:-1])\n",
    "# ema = ta.EMA(ohlcv, timeperiod=20)\n",
    "# prev_ema = np.append(np.nan, ema[:-1])\n",
    "\n",
    "signal_df['signal'] = (rsi < prev_rsi) & (high > prev_high)\n",
    "# быстрая проверка на наличие сигналов\n",
    "print('signal count: ', signal_df['signal'].sum())"
   ]
  },
  {
   "cell_type": "markdown",
   "id": "02cbf571-c389-4ff0-b67d-bf35f6e3d356",
   "metadata": {},
   "source": [
    "### Подготовка данных для бектеста"
   ]
  },
  {
   "cell_type": "code",
   "execution_count": 9,
   "id": "5903f396-e83c-409b-8890-b46f16f90b35",
   "metadata": {},
   "outputs": [],
   "source": [
    "bdf = df.merge(signal_df[['datetime', 'signal']], on='datetime', how='left') # signal mapping with main df"
   ]
  },
  {
   "cell_type": "code",
   "execution_count": 14,
   "id": "bd50b396-52dc-4c49-adfd-f6e1c20970ac",
   "metadata": {},
   "outputs": [],
   "source": [
    "step = .01 # шаг перебора параметров выхода\n",
    "# формируем параметры\n",
    "common_params = CommonParams(\n",
    "    open=bdf['open'].values,\n",
    "    high=bdf['high'].values,\n",
    "    low=bdf['low'].values,\n",
    "    close=bdf['close'].values,\n",
    "    entries=bdf['signal'].values,                                             # точки входа\n",
    "    take_profits=np.arange(0.01, .10, step),                                  # take profit %\n",
    "    stop_losses=np.arange(0.01, .05, step),                                   # stop loss %\n",
    "    trailing_stop_activation=np.append(np.nan, np.arange(0.01, .05, step)),   # trailing stop activation % - на каком процентном росте активируется трейлинг стоп\n",
    "    trailing_stops=np.append(np.nan, np.arange(0.01, .02, step/2)),           # traling stop % - если np.nan то не используется\n",
    "    init_cach=10000,                                                          # начальный баланс $\n",
    "    size=100,                                                                 # сумма входа в сделку $\n",
    "    fees=.0004,                                                               # комиссия $\n",
    "    slippage=.0001,                                                           # проскальзывание %\n",
    "    direction=Direction.LONG                                                  # направление\n",
    ")"
   ]
  },
  {
   "cell_type": "code",
   "execution_count": null,
   "id": "c76c2632-59a6-4bc5-99ec-301f4e290be5",
   "metadata": {
    "scrolled": true
   },
   "outputs": [
    {
     "data": {
      "application/vnd.jupyter.widget-view+json": {
       "model_id": "7a7cafd9ed8e436ca6c1c3ad6fd3f8d4",
       "version_major": 2,
       "version_minor": 0
      },
      "text/plain": [
       "  0%|          | 0/27 [00:00<?, ?it/s]"
      ]
     },
     "metadata": {},
     "output_type": "display_data"
    }
   ],
   "source": [
    "# запуск бектеста\n",
    "cpu_usage_weight = .08 # какой процент процессоров от общего количества использовать (для ускорения)\n",
    "group_size = 20 # если ОЗУ позволяет на скачках то можно увеличить (для ускорения)\n",
    "result = backtest.run(common_params, cpu_usage_weight, group_size)"
   ]
  },
  {
   "cell_type": "markdown",
   "id": "c3ebbcec-2bad-466c-91e8-1c38fa4ab64a",
   "metadata": {},
   "source": [
    "### Save backtest results"
   ]
  },
  {
   "cell_type": "code",
   "execution_count": 12,
   "id": "326756ba-b0ac-479d-b097-5ab5c4125d54",
   "metadata": {},
   "outputs": [],
   "source": [
    "filename = f'{symbol} {timeframe} {start_date}-{end_date}.xlsx'\n",
    "result.to_excel(f'backtest_results/{filename}', index=False)"
   ]
  },
  {
   "cell_type": "code",
   "execution_count": null,
   "id": "38bdea6b-1cfd-4cb7-9a8b-ff1a9b9ae7d8",
   "metadata": {},
   "outputs": [],
   "source": []
  },
  {
   "cell_type": "code",
   "execution_count": null,
   "id": "56d264c2-a85d-4e23-adba-35da7f56a0d4",
   "metadata": {},
   "outputs": [],
   "source": []
  },
  {
   "cell_type": "code",
   "execution_count": 11,
   "id": "be8c9bc5-0842-4df3-a9bb-cacdddd8111e",
   "metadata": {},
   "outputs": [],
   "source": [
    "length = 100\n",
    "\n",
    "# Генерация данных для цен актива\n",
    "np.random.seed(0)  # Для воспроизводимости\n",
    "open_prices = np.random.rand(length) * 100\n",
    "close_prices = open_prices + np.random.randn(length)\n",
    "low_prices = np.minimum(open_prices, close_prices) - np.random.rand(length) * 5\n",
    "high_prices = np.maximum(open_prices, close_prices) + np.random.rand(length) * 5\n",
    "\n",
    "# Создание DataFrame\n",
    "df = pd.DataFrame({\n",
    "    'open': open_prices,\n",
    "    'high': high_prices,\n",
    "    'low': low_prices,\n",
    "    'close': close_prices\n",
    "})\n",
    "\n",
    "# Добавление колонки signal\n",
    "signal = np.full(length, False)\n",
    "signal_indices = np.random.choice(length, 5, replace=False)\n",
    "signal[signal_indices] = True\n",
    "df['signal'] = signal"
   ]
  },
  {
   "cell_type": "code",
   "execution_count": 11,
   "id": "5e7c87d4-2356-4c57-9526-ccf571bdaace",
   "metadata": {},
   "outputs": [
    {
     "name": "stdout",
     "output_type": "stream",
     "text": [
      "trades: 265\n"
     ]
    }
   ],
   "source": [
    "pf = vbt.Portfolio.from_signals(\n",
    "    close=bdf['close'], \n",
    "    open=bdf['open'], \n",
    "    high=bdf['high'], \n",
    "    low=bdf['low'], \n",
    "    entries=bdf['signal'].astype(bool),\n",
    "    tp_stop=.03,\n",
    "    sl_stop=.02,\n",
    "    tsl_stop=.01,\n",
    "    tsl_th=.01,\n",
    "    init_cash=100, \n",
    "    fees=.0005, \n",
    "    slippage=.0005, \n",
    "    size=10,\n",
    "    freq='1min'\n",
    ")\n",
    "trades = pf.get_trades().records\n",
    "print('trades:', len(trades))"
   ]
  },
  {
   "cell_type": "code",
   "execution_count": null,
   "id": "fe2ae546-9dc1-46c7-b222-57f1421b0d3a",
   "metadata": {},
   "outputs": [],
   "source": []
  },
  {
   "cell_type": "code",
   "execution_count": null,
   "id": "63db0268-60b8-47da-9b64-be5fa822994e",
   "metadata": {},
   "outputs": [],
   "source": []
  }
 ],
 "metadata": {
  "kernelspec": {
   "display_name": "Python 3 (ipykernel)",
   "language": "python",
   "name": "python3"
  },
  "language_info": {
   "codemirror_mode": {
    "name": "ipython",
    "version": 3
   },
   "file_extension": ".py",
   "mimetype": "text/x-python",
   "name": "python",
   "nbconvert_exporter": "python",
   "pygments_lexer": "ipython3",
   "version": "3.8.17"
  }
 },
 "nbformat": 4,
 "nbformat_minor": 5
}
