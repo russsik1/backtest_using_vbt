{
 "cells": [
  {
   "cell_type": "code",
   "execution_count": 1,
   "id": "70244ee2",
   "metadata": {},
   "outputs": [],
   "source": [
    "%load_ext autoreload\n",
    "%autoreload 2"
   ]
  },
  {
   "cell_type": "code",
   "execution_count": 2,
   "id": "9d1fc6a5",
   "metadata": {
    "scrolled": true
   },
   "outputs": [],
   "source": [
    "import warnings\n",
    "warnings.filterwarnings('ignore')\n",
    "import vectorbtpro as vbt\n",
    "import os, sys, io, time, math, pickle, copy, json, asyncio, random, zipfile, functools, itertools\n",
    "import datetime as dt\n",
    "import talib.abstract as taa\n",
    "import talib as ta\n",
    "import pandas as pd\n",
    "import numpy as np"
   ]
  },
  {
   "cell_type": "code",
   "execution_count": 3,
   "id": "e7306f5f-b249-46e9-8b06-e33d20c2d8ab",
   "metadata": {},
   "outputs": [],
   "source": [
    "from dataloader import Dataloader\n",
    "from backtest import Backtest, CommonParams, Direction\n",
    "import indicators as indi\n",
    "\n",
    "dataloader = Dataloader()\n",
    "backtest = Backtest()"
   ]
  },
  {
   "cell_type": "markdown",
   "id": "882f23da-50b6-44ba-9589-09b9d0ef6dc0",
   "metadata": {},
   "source": [
    "### Type symbol and period"
   ]
  },
  {
   "cell_type": "code",
   "execution_count": 4,
   "id": "fd1f1897-e40c-4ddd-9890-377ea30efaec",
   "metadata": {},
   "outputs": [],
   "source": [
    "symbol = 'BTCUSDT'\n",
    "start_date = '01.2024' # строго в формате MM.YYYY\n",
    "end_date = '06.2024' # строго в формате MM.YYYY"
   ]
  },
  {
   "cell_type": "markdown",
   "id": "31122730-cac2-4e77-9cf0-05b38fc8a019",
   "metadata": {},
   "source": [
    "### Load data from binance.futures\n",
    "save .csv files in \"klines/{symbol}\".\n",
    "⚠️Skeep if data has been loaded before"
   ]
  },
  {
   "cell_type": "code",
   "execution_count": 5,
   "id": "08cd3341-1301-4c86-a6fa-e886189ebb02",
   "metadata": {},
   "outputs": [],
   "source": [
    "# dataloader.download(symbol, start_date, end_date)"
   ]
  },
  {
   "cell_type": "markdown",
   "id": "1e63f4e2-0339-40b9-8dda-c97ef08d8a24",
   "metadata": {},
   "source": [
    "### Read data\n",
    "1m candle stick data for:\n",
    "1. Open trades based on indicator signals\n",
    "2. Trade simulation"
   ]
  },
  {
   "cell_type": "code",
   "execution_count": 6,
   "id": "a1fcdfef-7f84-474b-af58-f03e6211e1a0",
   "metadata": {},
   "outputs": [],
   "source": [
    "df = dataloader.read(symbol, start_date, end_date).reset_index(drop=True)"
   ]
  },
  {
   "cell_type": "markdown",
   "id": "bbaf3349-f769-4e83-a173-e8fd75340071",
   "metadata": {},
   "source": [
    "### Signal"
   ]
  },
  {
   "cell_type": "code",
   "execution_count": null,
   "id": "ad74c59c-8f98-4b3b-8729-28d44f55f1c0",
   "metadata": {},
   "outputs": [],
   "source": [
    "# Preparing data for signal\n",
    "timeframe = '2h'\n",
    "\n",
    "signal_df = dataloader.convert_tf(df, timeframe)\n",
    "ohlcv = {c: signal_df[c].values for c in signal_df.columns}"
   ]
  },
  {
   "cell_type": "code",
   "execution_count": 8,
   "id": "e431f22c-aaed-4f49-80b7-f90f9074b955",
   "metadata": {},
   "outputs": [
    {
     "name": "stdout",
     "output_type": "stream",
     "text": [
      "signal count:  145\n",
      "None\n"
     ]
    }
   ],
   "source": [
    "# def ma(source, length, ma_type):\n",
    "#     if ma_type == \"SMA\":\n",
    "#         return source.rolling(window=length).mean()\n",
    "#     elif ma_type == \"Bollinger Bands\":\n",
    "#         return source.rolling(window=length).mean()\n",
    "#     elif ma_type == \"EMA\":\n",
    "#         return source.ewm(span=length, adjust=False).mean()\n",
    "#     elif ma_type == \"SMMA (RMA)\":\n",
    "#         smma = [source[0]]\n",
    "#         for i in range(1, len(source)):\n",
    "#             smma.append((smma[i-1] * (length - 1) + source[i]) / length)\n",
    "#         return pd.Series(smma, index=source.index)\n",
    "#     elif ma_type == \"WMA\":\n",
    "#         weights = np.arange(1, length + 1)\n",
    "#         return source.rolling(window=length).apply(lambda prices: np.dot(prices, weights)/weights.sum(), raw=True)\n",
    "#     return None\n",
    "\n",
    "# def calculate_rsi_and_ma(prices):\n",
    "#     rsiLengthInput = 14\n",
    "#     rsiSourceInput = prices\n",
    "#     maTypeInput = \"SMA\"\n",
    "#     maLengthInput = 14\n",
    "#     bbMultInput = 2.0\n",
    "\n",
    "#     change = rsiSourceInput.diff()\n",
    "#     up = change.where(change > 0, 0)\n",
    "#     down = -change.where(change < 0, 0)\n",
    "#     up = ma(up, rsiLengthInput, \"SMMA (RMA)\")\n",
    "#     down = ma(down, rsiLengthInput, \"SMMA (RMA)\")\n",
    "\n",
    "#     rsi = 100 - (100 / (1 + up / down))\n",
    "\n",
    "#     rsiMA = ma(rsi, maLengthInput, maTypeInput)\n",
    "#     rsiMA = np.where(np.isnan(rsiMA), -1, rsiMA)\n",
    "#     rsi = np.where(np.isnan(rsi), -1, rsi)\n",
    "\n",
    "#     return {\"rsi\": rsi, \"rsi_ma\": rsiMA}\n",
    "\n",
    "# data = pd.DataFrame(ohlcv, columns=['timestamp', 'open', 'high', 'low', 'close', 'volume', 'close_time', 'quote_asset_volume', 'number_of_trades', 'taker_buy_base_asset_volume', 'taker_buy_quote_asset_volume', 'ignore'])\n",
    "# data['close'] = data['close'].astype(float)\n",
    "# prices = data['close'] # open, high, close, low\n",
    "# rsi_data = calculate_rsi_and_ma(prices)\n",
    "# rsi = rsi_data['rsi']\n",
    "# rsi_ma = rsi_data['rsi_ma']\n",
    "# correction = rsi - rsi_ma\n",
    "# result = np.where((correction >= 25) | (correction <= -25), 1, 0) # Тут коррекцию менять\n",
    "\n",
    "# cur = np.nan_to_num(ta.STOCHRSI(ohlcv['open'], timeperiod=14, fastk_period=20, fastd_period=3, fastd_matype=3))\n",
    "# cur = np.nan_to_num(indi.stochrsi(ohlcv['open'], rsi_period=14, rsimin_period=20, rsimax_period=20, d_period=1)*100)\n",
    "cur = np.nan_to_num(indi.stochrsi(ohlcv['open'], rsi_period=6, rsimin_period=8, rsimax_period=8, d_period=1)*100)\n",
    "prev = np.roll(cur, 1)\n",
    "prev[0] = 0\n",
    "result = np.where((cur>20) & (prev<20), 1, 0)\n",
    "# result = np.not_equal(np.prod(np.where((cur>50) & (prev<50), 1, 0), axis=0), 0)\n",
    "\n",
    "signal_df['signal'] = result\n",
    "print(print('signal count: ', signal_df['signal'].sum()))"
   ]
  },
  {
   "cell_type": "code",
   "execution_count": 11,
   "id": "11259c99-2af1-41ba-83a9-ba9a686eebb4",
   "metadata": {},
   "outputs": [],
   "source": [
    "# renko = indi.renko(ohlcv['close'], box_size=0.01)\n",
    "# renko"
   ]
  },
  {
   "cell_type": "code",
   "execution_count": 12,
   "id": "377d0c0a-047b-46f5-aaa5-3d19a5839eef",
   "metadata": {},
   "outputs": [],
   "source": [
    "# long = np.where(renko>np.roll(renko, 1), 1, 0)\n",
    "# short = np.where(renko<np.roll(renko, 1), 1, 0)\n",
    "# short[0] = 0\n",
    "# print(np.sum(long))\n",
    "# print(np.sum(short))"
   ]
  },
  {
   "cell_type": "code",
   "execution_count": 13,
   "id": "33531a80-cd16-4fd9-96cc-376e593a0186",
   "metadata": {},
   "outputs": [],
   "source": [
    "# unique_prices = renko[np.insert(np.diff(renko) != 0, 0, True)]\n",
    "# pd.DataFrame(unique_prices).plot()"
   ]
  },
  {
   "cell_type": "markdown",
   "id": "02cbf571-c389-4ff0-b67d-bf35f6e3d356",
   "metadata": {},
   "source": [
    "### Preparing data for backtest"
   ]
  },
  {
   "cell_type": "code",
   "execution_count": 9,
   "id": "5903f396-e83c-409b-8890-b46f16f90b35",
   "metadata": {},
   "outputs": [],
   "source": [
    "bdf = df.merge(signal_df[['datetime', 'signal']], on='datetime', how='left').fillna(0) # signal mapping with main df"
   ]
  },
  {
   "cell_type": "code",
   "execution_count": 10,
   "id": "bd50b396-52dc-4c49-adfd-f6e1c20970ac",
   "metadata": {},
   "outputs": [],
   "source": [
    "step = .01 # шаг перебора параметров выхода\n",
    "# take_profits=np.append(np.nan, np.arange(.30, step))                # take profit %\n",
    "take_profits=[np.nan]                                                     # take profit %\n",
    "# stop_losses=np.append(np.nan, np.arange(.05, step))                       # stop loss %\n",
    "stop_losses=[np.nan, .05, .10, .12]                       # stop loss %\n",
    "trailing_stop_activation=[np.nan, 0.025, .05]    # trailing stop activation % - на каком процентном росте активируется трейлинг стоп\n",
    "trailing_stops=np.append(np.nan, np.arange(0.03, 0.08, step*2))         # traling stop % - если np.nan то не используется\n",
    "# формируем параметры\n",
    "common_params = CommonParams(\n",
    "    open_date_time=bdf['datetime'].values,\n",
    "    open=bdf['open'].values,\n",
    "    high=bdf['high'].values,\n",
    "    low=bdf['low'].values,\n",
    "    close=bdf['close'].values,\n",
    "    entries=bdf['signal'].values,                                             # точки входа\n",
    "    take_profits=take_profits,                                                # take profit %\n",
    "    stop_losses=stop_losses,                                                  # stop loss %\n",
    "    trailing_stop_activation=trailing_stop_activation,                        # trailing stop activation % - на каком процентном росте активируется трейлинг стоп\n",
    "    trailing_stops=trailing_stops,                                            # traling stop % - если np.nan то не используется\n",
    "    init_cash=10000,                                                           # начальный баланс $\n",
    "    size=1000,                                                                 # сумма входа в сделку $\n",
    "    fees=.0004,                                                               # комиссия $\n",
    "    slippage=.0000,                                                           # проскальзывание %\n",
    "    direction=Direction.LONG                                                  # направление\n",
    "    # direction=Direction.SHORT                                                 # направление\n",
    ")"
   ]
  },
  {
   "cell_type": "code",
   "execution_count": null,
   "id": "c76c2632-59a6-4bc5-99ec-301f4e290be5",
   "metadata": {
    "scrolled": true
   },
   "outputs": [],
   "source": [
    "# run backtest\n",
    "cpu_usage_weight = .08\n",
    "group_size = 30 \n",
    "result = backtest.run(common_params, cpu_usage_weight, group_size)"
   ]
  },
  {
   "cell_type": "markdown",
   "id": "c3ebbcec-2bad-466c-91e8-1c38fa4ab64a",
   "metadata": {},
   "source": [
    "### Save backtest results"
   ]
  },
  {
   "cell_type": "code",
   "execution_count": 12,
   "id": "326756ba-b0ac-479d-b097-5ab5c4125d54",
   "metadata": {},
   "outputs": [],
   "source": [
    "filename = f'{symbol} {timeframe} {start_date}-{end_date} d1.xlsx'\n",
    "backtest.save(filename, result)"
   ]
  },
  {
   "cell_type": "code",
   "execution_count": null,
   "id": "38bdea6b-1cfd-4cb7-9a8b-ff1a9b9ae7d8",
   "metadata": {},
   "outputs": [],
   "source": []
  },
  {
   "cell_type": "code",
   "execution_count": null,
   "id": "56d264c2-a85d-4e23-adba-35da7f56a0d4",
   "metadata": {},
   "outputs": [],
   "source": []
  },
  {
   "cell_type": "code",
   "execution_count": null,
   "id": "be8c9bc5-0842-4df3-a9bb-cacdddd8111e",
   "metadata": {},
   "outputs": [],
   "source": []
  },
  {
   "cell_type": "code",
   "execution_count": null,
   "id": "5e7c87d4-2356-4c57-9526-ccf571bdaace",
   "metadata": {},
   "outputs": [],
   "source": []
  },
  {
   "cell_type": "code",
   "execution_count": null,
   "id": "fe2ae546-9dc1-46c7-b222-57f1421b0d3a",
   "metadata": {
    "editable": true,
    "slideshow": {
     "slide_type": ""
    },
    "tags": []
   },
   "outputs": [],
   "source": []
  },
  {
   "cell_type": "code",
   "execution_count": null,
   "id": "70aea1b8-c9f5-4e2d-9516-68fb70eca1d1",
   "metadata": {},
   "outputs": [],
   "source": []
  }
 ],
 "metadata": {
  "kernelspec": {
   "display_name": "Python 3",
   "language": "python",
   "name": "python3"
  },
  "language_info": {
   "codemirror_mode": {
    "name": "ipython",
    "version": 3
   },
   "file_extension": ".py",
   "mimetype": "text/x-python",
   "name": "python",
   "nbconvert_exporter": "python",
   "pygments_lexer": "ipython3",
   "version": "3.12.1"
  }
 },
 "nbformat": 4,
 "nbformat_minor": 5
}
